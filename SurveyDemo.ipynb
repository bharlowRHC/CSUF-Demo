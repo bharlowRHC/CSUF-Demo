{
 "cells": [
  {
   "cell_type": "markdown",
   "id": "3dc3fa35-655b-4280-af06-1ce59018da7f",
   "metadata": {},
   "source": [
    "## Visualization Demonstration"
   ]
  },
  {
   "cell_type": "markdown",
   "id": "0bf5167e-317f-4a55-b359-a56c82a39c52",
   "metadata": {},
   "source": [
    "### Set up environment\n",
    "Call in libraries we will use this semester"
   ]
  },
  {
   "cell_type": "code",
   "execution_count": 2,
   "id": "5866a96c-0aaf-4a06-9527-7e3f8ce4f2cf",
   "metadata": {},
   "outputs": [],
   "source": [
    "from datascience import *"
   ]
  },
  {
   "cell_type": "markdown",
   "id": "e9ce70bc-b5fa-4a5e-a27a-086adb9d0930",
   "metadata": {},
   "source": [
    "#### Create table using survey dataset from GitHub"
   ]
  },
  {
   "cell_type": "code",
   "execution_count": 7,
   "id": "41ccb0fa-7c18-4c23-a03e-4b68a33e1d6a",
   "metadata": {},
   "outputs": [
    {
     "data": {
      "text/html": [
       "<table border=\"1\" class=\"dataframe\">\n",
       "    <thead>\n",
       "        <tr>\n",
       "            <th>Gender</th> <th>Random digits</th> <th>Eye color</th> <th>Height</th> <th>Cash value</th> <th>Keys</th> <th>Credit cards</th> <th>Pulse rate</th> <th>Exercise</th> <th>Units taking</th> <th>Employed</th> <th>Children</th> <th>Smoke</th> <th>Handed</th> <th>Shoe length</th> <th>Arrival</th> <th>Birth month</th> <th>Navel height</th> <th>Age</th> <th>Pineapple</th> <th>Car</th> <th>People dated</th> <th>Religious</th> <th>Pets</th> <th># pets</th> <th>Apple or Android</th> <th>Math bad</th> <th>Outside US</th> <th>Outside CA</th> <th>Swim</th> <th>Cook</th> <th>Pant leg</th> <th>Sleep position</th> <th>Hours of sleep</th> <th>Piercings</th> <th>Number of textees</th> <th>Extroversion</th>\n",
       "        </tr>\n",
       "    </thead>\n",
       "    <tbody>\n",
       "        <tr>\n",
       "            <td>male  </td> <td>5959         </td> <td>brown    </td> <td>68    </td> <td>1000      </td> <td>2   </td> <td>1           </td> <td>90        </td> <td>yes     </td> <td>10          </td> <td>no      </td> <td>0       </td> <td>no   </td> <td>right </td> <td>nan        </td> <td>45     </td> <td>4          </td> <td>nan         </td> <td>20  </td> <td>no       </td> <td>yes </td> <td>1           </td> <td>no       </td> <td>yes </td> <td>2     </td> <td>Android         </td> <td>no      </td> <td>yes       </td> <td>yes       </td> <td>yes </td> <td>no  </td> <td>Left leg in first </td> <td>Left side     </td> <td>8             </td> <td>0        </td> <td>5                </td> <td>5           </td>\n",
       "        </tr>\n",
       "        <tr>\n",
       "            <td>male  </td> <td>1234         </td> <td>brown    </td> <td>66    </td> <td>4000      </td> <td>3   </td> <td>2           </td> <td>88        </td> <td>no      </td> <td>14          </td> <td>yes     </td> <td>0       </td> <td>no   </td> <td>right </td> <td>nan        </td> <td>30     </td> <td>4          </td> <td>nan         </td> <td>20  </td> <td>yes      </td> <td>yes </td> <td>2           </td> <td>no       </td> <td>yes </td> <td>2     </td> <td>Apple           </td> <td>yes     </td> <td>yes       </td> <td>yes       </td> <td>yes </td> <td>yes </td> <td>Left leg in first </td> <td>Left side     </td> <td>7             </td> <td>0        </td> <td>3                </td> <td>2           </td>\n",
       "        </tr>\n",
       "        <tr>\n",
       "            <td>male  </td> <td>7854         </td> <td>brown    </td> <td>71    </td> <td>25        </td> <td>0   </td> <td>0           </td> <td>64        </td> <td>yes     </td> <td>13          </td> <td>yes     </td> <td>0       </td> <td>no   </td> <td>right </td> <td>nan        </td> <td>15     </td> <td>8          </td> <td>nan         </td> <td>18  </td> <td>yes      </td> <td>no  </td> <td>0           </td> <td>yes      </td> <td>no  </td> <td>0     </td> <td>Android         </td> <td>no      </td> <td>yes       </td> <td>yes       </td> <td>yes </td> <td>yes </td> <td>Right leg in first</td> <td>Back          </td> <td>8             </td> <td>0        </td> <td>4                </td> <td>3           </td>\n",
       "        </tr>\n",
       "    </tbody>\n",
       "</table>\n",
       "<p>... (32 rows omitted)</p>"
      ],
      "text/plain": [
       "<IPython.core.display.HTML object>"
      ]
     },
     "metadata": {},
     "output_type": "display_data"
    }
   ],
   "source": [
    "survey = Table.read_table('Survey_F24.csv')\n",
    "survey.show(3)"
   ]
  },
  {
   "cell_type": "code",
   "execution_count": null,
   "id": "88e9a273-dbb3-47dc-bc87-b0dea2e7ccbf",
   "metadata": {},
   "outputs": [],
   "source": []
  }
 ],
 "metadata": {
  "kernelspec": {
   "display_name": "Python 3 (ipykernel)",
   "language": "python",
   "name": "python3"
  },
  "language_info": {
   "codemirror_mode": {
    "name": "ipython",
    "version": 3
   },
   "file_extension": ".py",
   "mimetype": "text/x-python",
   "name": "python",
   "nbconvert_exporter": "python",
   "pygments_lexer": "ipython3",
   "version": "3.11.10"
  }
 },
 "nbformat": 4,
 "nbformat_minor": 5
}

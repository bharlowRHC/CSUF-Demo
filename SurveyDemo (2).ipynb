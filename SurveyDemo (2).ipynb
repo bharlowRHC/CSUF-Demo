{
 "cells": [
  {
   "cell_type": "markdown",
   "id": "3dc3fa35-655b-4280-af06-1ce59018da7f",
   "metadata": {},
   "source": [
    "## Visualization Demonstration"
   ]
  },
  {
   "cell_type": "markdown",
   "id": "0bf5167e-317f-4a55-b359-a56c82a39c52",
   "metadata": {},
   "source": [
    "### Set up environment\n",
    "Call in libraries we will use this semester"
   ]
  },
  {
   "cell_type": "code",
   "execution_count": 2,
   "id": "5866a96c-0aaf-4a06-9527-7e3f8ce4f2cf",
   "metadata": {},
   "outputs": [],
   "source": [
    "from datascience import *\n",
    "\n",
    "%matplotlib inline"
   ]
  },
  {
   "cell_type": "markdown",
   "id": "e9ce70bc-b5fa-4a5e-a27a-086adb9d0930",
   "metadata": {},
   "source": [
    "#### Create table using survey dataset from GitHub"
   ]
  },
  {
   "cell_type": "code",
   "execution_count": 3,
   "id": "41ccb0fa-7c18-4c23-a03e-4b68a33e1d6a",
   "metadata": {},
   "outputs": [
    {
     "data": {
      "text/html": [
       "<table border=\"1\" class=\"dataframe\">\n",
       "    <thead>\n",
       "        <tr>\n",
       "            <th>Gender</th> <th>Random digits</th> <th>Eye color</th> <th>Height</th> <th>Cash value</th> <th>Keys</th> <th>Credit cards</th> <th>Pulse rate</th> <th>Exercise</th> <th>Units taking</th> <th>Employed</th> <th>Children</th> <th>Smoke</th> <th>Handed</th> <th>Shoe length</th> <th>Arrival</th> <th>Birth month</th> <th>Navel height</th> <th>Age</th> <th>Pineapple</th> <th>Car</th> <th>People dated</th> <th>Religious</th> <th>Pets</th> <th># pets</th> <th>Apple or Android</th> <th>Math bad</th> <th>Outside US</th> <th>Outside CA</th> <th>Swim</th> <th>Cook</th> <th>Pant leg</th> <th>Sleep position</th> <th>Hours of sleep</th> <th>Piercings</th> <th>Number of textees</th> <th>Extroversion</th>\n",
       "        </tr>\n",
       "    </thead>\n",
       "    <tbody>\n",
       "        <tr>\n",
       "            <td>male  </td> <td>5959         </td> <td>brown    </td> <td>68    </td> <td>1000      </td> <td>2   </td> <td>1           </td> <td>90        </td> <td>yes     </td> <td>10          </td> <td>no      </td> <td>0       </td> <td>no   </td> <td>right </td> <td>nan        </td> <td>45     </td> <td>4          </td> <td>nan         </td> <td>20  </td> <td>no       </td> <td>yes </td> <td>1           </td> <td>no       </td> <td>yes </td> <td>2     </td> <td>Android         </td> <td>no      </td> <td>yes       </td> <td>yes       </td> <td>yes </td> <td>no  </td> <td>Left leg in first </td> <td>Left side     </td> <td>8             </td> <td>0        </td> <td>5                </td> <td>5           </td>\n",
       "        </tr>\n",
       "        <tr>\n",
       "            <td>male  </td> <td>1234         </td> <td>brown    </td> <td>66    </td> <td>4000      </td> <td>3   </td> <td>2           </td> <td>88        </td> <td>no      </td> <td>14          </td> <td>yes     </td> <td>0       </td> <td>no   </td> <td>right </td> <td>nan        </td> <td>30     </td> <td>4          </td> <td>nan         </td> <td>20  </td> <td>yes      </td> <td>yes </td> <td>2           </td> <td>no       </td> <td>yes </td> <td>2     </td> <td>Apple           </td> <td>yes     </td> <td>yes       </td> <td>yes       </td> <td>yes </td> <td>yes </td> <td>Left leg in first </td> <td>Left side     </td> <td>7             </td> <td>0        </td> <td>3                </td> <td>2           </td>\n",
       "        </tr>\n",
       "        <tr>\n",
       "            <td>male  </td> <td>7854         </td> <td>brown    </td> <td>71    </td> <td>25        </td> <td>0   </td> <td>0           </td> <td>64        </td> <td>yes     </td> <td>13          </td> <td>yes     </td> <td>0       </td> <td>no   </td> <td>right </td> <td>nan        </td> <td>15     </td> <td>8          </td> <td>nan         </td> <td>18  </td> <td>yes      </td> <td>no  </td> <td>0           </td> <td>yes      </td> <td>no  </td> <td>0     </td> <td>Android         </td> <td>no      </td> <td>yes       </td> <td>yes       </td> <td>yes </td> <td>yes </td> <td>Right leg in first</td> <td>Back          </td> <td>8             </td> <td>0        </td> <td>4                </td> <td>3           </td>\n",
       "        </tr>\n",
       "    </tbody>\n",
       "</table>\n",
       "<p>... (32 rows omitted)</p>"
      ],
      "text/plain": [
       "<IPython.core.display.HTML object>"
      ]
     },
     "metadata": {},
     "output_type": "display_data"
    }
   ],
   "source": [
    "survey = Table.read_table('Survey_F24.csv')\n",
    "survey.show(3)"
   ]
  },
  {
   "cell_type": "code",
   "execution_count": 4,
   "id": "c4c890fc-9e8e-41b8-bd11-735dc1dc8893",
   "metadata": {},
   "outputs": [
    {
     "data": {
      "text/plain": [
       "('Gender',\n",
       " 'Random digits',\n",
       " 'Eye color',\n",
       " 'Height',\n",
       " 'Cash value',\n",
       " 'Keys',\n",
       " 'Credit cards',\n",
       " 'Pulse rate',\n",
       " 'Exercise',\n",
       " 'Units taking',\n",
       " 'Employed',\n",
       " 'Children',\n",
       " 'Smoke',\n",
       " 'Handed',\n",
       " 'Shoe length',\n",
       " 'Arrival',\n",
       " 'Birth month',\n",
       " 'Navel height',\n",
       " 'Age',\n",
       " 'Pineapple',\n",
       " 'Car',\n",
       " 'People dated',\n",
       " 'Religious',\n",
       " 'Pets',\n",
       " '# pets',\n",
       " 'Apple or Android',\n",
       " 'Math bad',\n",
       " 'Outside US',\n",
       " 'Outside CA',\n",
       " 'Swim',\n",
       " 'Cook',\n",
       " 'Pant leg',\n",
       " 'Sleep position',\n",
       " 'Hours of sleep',\n",
       " 'Piercings',\n",
       " 'Number of textees',\n",
       " 'Extroversion')"
      ]
     },
     "execution_count": 4,
     "metadata": {},
     "output_type": "execute_result"
    }
   ],
   "source": [
    "survey.labels"
   ]
  },
  {
   "cell_type": "markdown",
   "id": "fdbeefd1-9826-41ff-869b-392f99e343a1",
   "metadata": {},
   "source": [
    "## Exploring the data"
   ]
  },
  {
   "cell_type": "code",
   "execution_count": 5,
   "id": "9ae4d7b0-06a6-492f-9750-8a771dd0bf29",
   "metadata": {},
   "outputs": [
    {
     "data": {
      "text/html": [
       "<table border=\"1\" class=\"dataframe\">\n",
       "    <thead>\n",
       "        <tr>\n",
       "            <th>Gender</th> <th>count</th>\n",
       "        </tr>\n",
       "    </thead>\n",
       "    <tbody>\n",
       "        <tr>\n",
       "            <td>female</td> <td>8    </td>\n",
       "        </tr>\n",
       "        <tr>\n",
       "            <td>male  </td> <td>26   </td>\n",
       "        </tr>\n",
       "        <tr>\n",
       "            <td>male  </td> <td>1    </td>\n",
       "        </tr>\n",
       "    </tbody>\n",
       "</table>"
      ],
      "text/plain": [
       "Gender | count\n",
       "female | 8\n",
       "male   | 26\n",
       "male   | 1"
      ]
     },
     "execution_count": 5,
     "metadata": {},
     "output_type": "execute_result"
    }
   ],
   "source": [
    "#categorical variable\n",
    "gender_dist = survey.group('Gender')\n",
    "gender_dist"
   ]
  },
  {
   "cell_type": "code",
   "execution_count": 6,
   "id": "5bfe6eaf-2106-452a-ba29-bd33022e36a2",
   "metadata": {},
   "outputs": [
    {
     "data": {
      "image/png": "[encoded data removed]",
      "text/plain": [
       "<Figure size 600x400 with 1 Axes>"
      ]
     },
     "metadata": {},
     "output_type": "display_data"
    }
   ],
   "source": [
    "gender_dist.barh('Gender')\n",
    "# studio_distribution.barh('Studio')"
   ]
  },
  {
   "cell_type": "markdown",
   "id": "3c3ae445-9bc9-492d-b71e-d81e52b38b9b",
   "metadata": {},
   "source": [
    "### Fix input errors/discrepancies"
   ]
  },
  {
   "cell_type": "code",
   "execution_count": 7,
   "id": "a12d4a1c-fa0d-4ef7-9af6-f34aa9b951a6",
   "metadata": {},
   "outputs": [
    {
     "data": {
      "text/html": [
       "<table border=\"1\" class=\"dataframe\">\n",
       "    <thead>\n",
       "        <tr>\n",
       "            <th>Gender</th> <th>count</th>\n",
       "        </tr>\n",
       "    </thead>\n",
       "    <tbody>\n",
       "        <tr>\n",
       "            <td>male  </td> <td>27   </td>\n",
       "        </tr>\n",
       "        <tr>\n",
       "            <td>female</td> <td>8    </td>\n",
       "        </tr>\n",
       "    </tbody>\n",
       "</table>"
      ],
      "text/plain": [
       "Gender | count\n",
       "male   | 27\n",
       "female | 8"
      ]
     },
     "execution_count": 7,
     "metadata": {},
     "output_type": "execute_result"
    }
   ],
   "source": [
    "#Use are.equal_to to replace 'male ' with 'male' in the Gender column\n",
    "\n",
    "male_count = gender_dist.where('Gender', are.equal_to('male')).column('count').sum() + \\\n",
    "             gender_dist.where('Gender', are.equal_to('male ')).column('count').sum()\n",
    "\n",
    "female_count = gender_dist.where('Gender', are.equal_to('female')).column('count').sum()\n",
    "\n",
    "gender_dist_clean = Table().with_columns(\n",
    "    'Gender', ['male', 'female'],\n",
    "    'count', [male_count, female_count]\n",
    ")\n",
    "gender_dist_clean"
   ]
  },
  {
   "cell_type": "code",
   "execution_count": 8,
   "id": "3fb3e33c-aa89-4c53-81e7-c82636426c9b",
   "metadata": {},
   "outputs": [
    {
     "data": {
      "image/png": "[encoded data removed]",
      "text/plain": [
       "<Figure size 600x400 with 1 Axes>"
      ]
     },
     "metadata": {},
     "output_type": "display_data"
    }
   ],
   "source": [
    "gender_dist_clean.barh('Gender')"
   ]
  },
  {
   "cell_type": "code",
   "execution_count": 9,
   "id": "6e3a108b-03e4-48ef-80cc-64dcc13e24f9",
   "metadata": {},
   "outputs": [
    {
     "data": {
      "image/png": "[encoded data removed]",
      "text/plain": [
       "<Figure size 600x400 with 1 Axes>"
      ]
     },
     "metadata": {},
     "output_type": "display_data"
    }
   ],
   "source": [
    "# More advanced replace \n",
    "# Define a function to replace 'male ' with 'male'\n",
    "\n",
    "def clean_gender(gender):\n",
    "    return gender.replace(' ', '')\n",
    "\n",
    "# Clean the 'Gender' column\n",
    "gender_dist_cleaned = gender_dist.with_column('Gender', gender_dist.apply(clean_gender, 'Gender'))\n",
    "\n",
    "# Group by Gender and sum the counts\n",
    "gender_dist_cleaned = gender_dist_cleaned.group('Gender', sum)\n",
    "\n",
    "# Sort the table by count in descending order\n",
    "gender_dist_cleaned = gender_dist_cleaned.sort('count sum', descending=True)\n",
    "\n",
    "# Create the horizontal bar plot\n",
    "gender_dist_cleaned.barh('Gender')"
   ]
  },
  {
   "cell_type": "code",
   "execution_count": 10,
   "id": "19aba049-883a-4403-8e57-0c5bd487c388",
   "metadata": {},
   "outputs": [
    {
     "data": {
      "image/png": "[encoded data removed]",
      "text/plain": [
       "<Figure size 600x400 with 1 Axes>"
      ]
     },
     "metadata": {},
     "output_type": "display_data"
    }
   ],
   "source": [
    "#numerical data\n",
    "survey.hist('Units taking')"
   ]
  },
  {
   "cell_type": "code",
   "execution_count": 11,
   "id": "aa88a198-cbb1-4210-b827-55f457c903f9",
   "metadata": {},
   "outputs": [
    {
     "data": {
      "text/html": [
       "<table border=\"1\" class=\"dataframe\">\n",
       "    <thead>\n",
       "        <tr>\n",
       "            <th>Eye color</th> <th>count</th>\n",
       "        </tr>\n",
       "    </thead>\n",
       "    <tbody>\n",
       "        <tr>\n",
       "            <td>black    </td> <td>2    </td>\n",
       "        </tr>\n",
       "        <tr>\n",
       "            <td>blue     </td> <td>2    </td>\n",
       "        </tr>\n",
       "        <tr>\n",
       "            <td>brown    </td> <td>28   </td>\n",
       "        </tr>\n",
       "        <tr>\n",
       "            <td>green    </td> <td>1    </td>\n",
       "        </tr>\n",
       "        <tr>\n",
       "            <td>hazel    </td> <td>2    </td>\n",
       "        </tr>\n",
       "    </tbody>\n",
       "</table>"
      ],
      "text/plain": [
       "Eye color | count\n",
       "black     | 2\n",
       "blue      | 2\n",
       "brown     | 28\n",
       "green     | 1\n",
       "hazel     | 2"
      ]
     },
     "execution_count": 11,
     "metadata": {},
     "output_type": "execute_result"
    }
   ],
   "source": [
    "eye_color = survey.group('Eye color')\n",
    "eye_color"
   ]
  },
  {
   "cell_type": "code",
   "execution_count": 12,
   "id": "273c4337-a9f4-4fda-a9ad-501174280066",
   "metadata": {},
   "outputs": [
    {
     "data": {
      "image/png": "[encoded data removed]",
      "text/plain": [
       "<Figure size 600x400 with 1 Axes>"
      ]
     },
     "metadata": {},
     "output_type": "display_data"
    }
   ],
   "source": [
    "eye_color.barh('Eye color')"
   ]
  },
  {
   "cell_type": "code",
   "execution_count": 13,
   "id": "a83823da-dd2d-49fa-ab53-a65edc58d029",
   "metadata": {},
   "outputs": [
    {
     "data": {
      "image/png": "[encoded data removed]",
      "text/plain": [
       "<Figure size 600x400 with 1 Axes>"
      ]
     },
     "metadata": {},
     "output_type": "display_data"
    }
   ],
   "source": [
    "eye_color.sort('count', descending = True).barh('Eye color')"
   ]
  },
  {
   "cell_type": "code",
   "execution_count": 14,
   "id": "bf252878-baae-4685-9a8a-7457e253666a",
   "metadata": {},
   "outputs": [
    {
     "data": {
      "text/html": [
       "<table border=\"1\" class=\"dataframe\">\n",
       "    <thead>\n",
       "        <tr>\n",
       "            <th>Handed</th> <th>Pant leg</th> <th>count</th>\n",
       "        </tr>\n",
       "    </thead>\n",
       "    <tbody>\n",
       "        <tr>\n",
       "            <td>ambidextrous</td> <td>Left leg in first </td> <td>1    </td>\n",
       "        </tr>\n",
       "        <tr>\n",
       "            <td>left        </td> <td>Left leg in first </td> <td>5    </td>\n",
       "        </tr>\n",
       "        <tr>\n",
       "            <td>left        </td> <td>Right leg in first</td> <td>3    </td>\n",
       "        </tr>\n",
       "        <tr>\n",
       "            <td>right       </td> <td>I don't know      </td> <td>2    </td>\n",
       "        </tr>\n",
       "        <tr>\n",
       "            <td>right       </td> <td>Left leg in first </td> <td>10   </td>\n",
       "        </tr>\n",
       "        <tr>\n",
       "            <td>right       </td> <td>Right leg in first</td> <td>14   </td>\n",
       "        </tr>\n",
       "    </tbody>\n",
       "</table>"
      ],
      "text/plain": [
       "Handed       | Pant leg           | count\n",
       "ambidextrous | Left leg in first  | 1\n",
       "left         | Left leg in first  | 5\n",
       "left         | Right leg in first | 3\n",
       "right        | I don't know       | 2\n",
       "right        | Left leg in first  | 10\n",
       "right        | Right leg in first | 14"
      ]
     },
     "execution_count": 14,
     "metadata": {},
     "output_type": "execute_result"
    }
   ],
   "source": [
    "handed = survey.group(['Handed', 'Pant leg'])\n",
    "handed"
   ]
  },
  {
   "cell_type": "code",
   "execution_count": 18,
   "id": "f24c64f2-341b-4f7a-ac49-d2dbe6645291",
   "metadata": {},
   "outputs": [
    {
     "data": {
      "text/plain": [
       "(Handed | Pant leg           | count\n",
       " left   | Left leg in first  | 5\n",
       " left   | Right leg in first | 3,\n",
       " Handed | Pant leg           | count\n",
       " right  | I don't know       | 2\n",
       " right  | Left leg in first  | 10\n",
       " right  | Right leg in first | 14)"
      ]
     },
     "execution_count": 18,
     "metadata": {},
     "output_type": "execute_result"
    }
   ],
   "source": [
    "l_handed= handed.where('Handed', are.equal_to('left'))\n",
    "r_handed = handed.where('Handed', are.equal_to('right'))\n",
    "l_handed, r_handed"
   ]
  }
 ],
 "metadata": {
  "kernelspec": {
   "display_name": "Python 3 (ipykernel)",
   "language": "python",
   "name": "python3"
  },
  "language_info": {
   "codemirror_mode": {
    "name": "ipython",
    "version": 3
   },
   "file_extension": ".py",
   "mimetype": "text/x-python",
   "name": "python",
   "nbconvert_exporter": "python",
   "pygments_lexer": "ipython3",
   "version": "3.11.10"
  }
 },
 "nbformat": 4,
 "nbformat_minor": 5
}
